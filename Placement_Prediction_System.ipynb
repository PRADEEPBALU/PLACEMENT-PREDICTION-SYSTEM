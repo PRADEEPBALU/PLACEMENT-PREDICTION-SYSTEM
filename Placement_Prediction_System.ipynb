{
  "nbformat": 4,
  "nbformat_minor": 0,
  "metadata": {
    "colab": {
      "name": "Placement Prediction System.ipynb",
      "provenance": [],
      "authorship_tag": "ABX9TyO3VZU5ruaP9ZJggMbQA/ps",
      "include_colab_link": true
    },
    "kernelspec": {
      "display_name": "Python 3",
      "name": "python3"
    },
    "language_info": {
      "name": "python"
    }
  },
  "cells": [
    {
      "cell_type": "markdown",
      "metadata": {
        "id": "view-in-github",
        "colab_type": "text"
      },
      "source": [
        "<a href=\"https://colab.research.google.com/github/PRADEEPBALU/PLACEMENT-PREDICTION-SYSTEM/blob/main/Placement_Prediction_System.ipynb\" target=\"_parent\"><img src=\"https://colab.research.google.com/assets/colab-badge.svg\" alt=\"Open In Colab\"/></a>"
      ]
    },
    {
      "cell_type": "markdown",
      "metadata": {
        "id": "ciGuwHKgOEnk"
      },
      "source": [
        "**MINI PROJECT ON PLACEMENT PREDICITON SYSTEM USING LOGISTIC REGRESSION AND RANDOM FOREST**"
      ]
    },
    {
      "cell_type": "markdown",
      "metadata": {
        "id": "qLuWDPKifjZy"
      },
      "source": [
        "**DATA UNDERSTANDING:**"
      ]
    },
    {
      "cell_type": "code",
      "metadata": {
        "id": "lTJRS6QT1Fk6"
      },
      "source": [
        "import numpy as np\n",
        "import pandas as pd\n",
        "import matplotlib.pyplot as plt\n",
        "import seaborn as sns\n",
        "\n",
        "import sklearn\n",
        "from sklearn.model_selection import train_test_split\n",
        "from sklearn.linear_model import LogisticRegression\n",
        "from sklearn.metrics import accuracy_score,confusion_matrix,classification_report\n",
        "from sklearn.ensemble import RandomForestClassifier"
      ],
      "execution_count": null,
      "outputs": []
    },
    {
      "cell_type": "markdown",
      "metadata": {
        "id": "BwR9RhwDgMpN"
      },
      "source": [
        "**2.1 GATHERING DATA:**"
      ]
    },
    {
      "cell_type": "code",
      "metadata": {
        "id": "7hRhj8QY1abK"
      },
      "source": [
        "#load the dataset\n",
        "df=pd.read_csv(\"Placement_Data_Full_Class.csv\")"
      ],
      "execution_count": null,
      "outputs": []
    },
    {
      "cell_type": "code",
      "metadata": {
        "colab": {
          "base_uri": "https://localhost:8080/",
          "height": 244
        },
        "id": "B0xhJIOU3iMb",
        "outputId": "72d7fe6d-1608-468a-9112-4b5b4381a203"
      },
      "source": [
        "#see the 5 first data\n",
        "df.head()"
      ],
      "execution_count": null,
      "outputs": [
        {
          "output_type": "execute_result",
          "data": {
            "text/html": [
              "<div>\n",
              "<style scoped>\n",
              "    .dataframe tbody tr th:only-of-type {\n",
              "        vertical-align: middle;\n",
              "    }\n",
              "\n",
              "    .dataframe tbody tr th {\n",
              "        vertical-align: top;\n",
              "    }\n",
              "\n",
              "    .dataframe thead th {\n",
              "        text-align: right;\n",
              "    }\n",
              "</style>\n",
              "<table border=\"1\" class=\"dataframe\">\n",
              "  <thead>\n",
              "    <tr style=\"text-align: right;\">\n",
              "      <th></th>\n",
              "      <th>sl_no</th>\n",
              "      <th>gender</th>\n",
              "      <th>ssc_p</th>\n",
              "      <th>ssc_b</th>\n",
              "      <th>hsc_p</th>\n",
              "      <th>hsc_b</th>\n",
              "      <th>hsc_s</th>\n",
              "      <th>degree_p</th>\n",
              "      <th>degree_t</th>\n",
              "      <th>workex</th>\n",
              "      <th>etest_p</th>\n",
              "      <th>specialisation</th>\n",
              "      <th>mba_p</th>\n",
              "      <th>status</th>\n",
              "      <th>salary</th>\n",
              "    </tr>\n",
              "  </thead>\n",
              "  <tbody>\n",
              "    <tr>\n",
              "      <th>0</th>\n",
              "      <td>1</td>\n",
              "      <td>M</td>\n",
              "      <td>67.00</td>\n",
              "      <td>Others</td>\n",
              "      <td>91.00</td>\n",
              "      <td>Others</td>\n",
              "      <td>Commerce</td>\n",
              "      <td>58.00</td>\n",
              "      <td>Sci&amp;Tech</td>\n",
              "      <td>No</td>\n",
              "      <td>55.0</td>\n",
              "      <td>Mkt&amp;HR</td>\n",
              "      <td>58.80</td>\n",
              "      <td>Placed</td>\n",
              "      <td>270000.0</td>\n",
              "    </tr>\n",
              "    <tr>\n",
              "      <th>1</th>\n",
              "      <td>2</td>\n",
              "      <td>M</td>\n",
              "      <td>79.33</td>\n",
              "      <td>Central</td>\n",
              "      <td>78.33</td>\n",
              "      <td>Others</td>\n",
              "      <td>Science</td>\n",
              "      <td>77.48</td>\n",
              "      <td>Sci&amp;Tech</td>\n",
              "      <td>Yes</td>\n",
              "      <td>86.5</td>\n",
              "      <td>Mkt&amp;Fin</td>\n",
              "      <td>66.28</td>\n",
              "      <td>Placed</td>\n",
              "      <td>200000.0</td>\n",
              "    </tr>\n",
              "    <tr>\n",
              "      <th>2</th>\n",
              "      <td>3</td>\n",
              "      <td>M</td>\n",
              "      <td>65.00</td>\n",
              "      <td>Central</td>\n",
              "      <td>68.00</td>\n",
              "      <td>Central</td>\n",
              "      <td>Arts</td>\n",
              "      <td>64.00</td>\n",
              "      <td>Comm&amp;Mgmt</td>\n",
              "      <td>No</td>\n",
              "      <td>75.0</td>\n",
              "      <td>Mkt&amp;Fin</td>\n",
              "      <td>57.80</td>\n",
              "      <td>Placed</td>\n",
              "      <td>250000.0</td>\n",
              "    </tr>\n",
              "    <tr>\n",
              "      <th>3</th>\n",
              "      <td>4</td>\n",
              "      <td>M</td>\n",
              "      <td>56.00</td>\n",
              "      <td>Central</td>\n",
              "      <td>52.00</td>\n",
              "      <td>Central</td>\n",
              "      <td>Science</td>\n",
              "      <td>52.00</td>\n",
              "      <td>Sci&amp;Tech</td>\n",
              "      <td>No</td>\n",
              "      <td>66.0</td>\n",
              "      <td>Mkt&amp;HR</td>\n",
              "      <td>59.43</td>\n",
              "      <td>Not Placed</td>\n",
              "      <td>NaN</td>\n",
              "    </tr>\n",
              "    <tr>\n",
              "      <th>4</th>\n",
              "      <td>5</td>\n",
              "      <td>M</td>\n",
              "      <td>85.80</td>\n",
              "      <td>Central</td>\n",
              "      <td>73.60</td>\n",
              "      <td>Central</td>\n",
              "      <td>Commerce</td>\n",
              "      <td>73.30</td>\n",
              "      <td>Comm&amp;Mgmt</td>\n",
              "      <td>No</td>\n",
              "      <td>96.8</td>\n",
              "      <td>Mkt&amp;Fin</td>\n",
              "      <td>55.50</td>\n",
              "      <td>Placed</td>\n",
              "      <td>425000.0</td>\n",
              "    </tr>\n",
              "  </tbody>\n",
              "</table>\n",
              "</div>"
            ],
            "text/plain": [
              "   sl_no gender  ssc_p    ssc_b  ...  specialisation  mba_p      status    salary\n",
              "0      1      M  67.00   Others  ...          Mkt&HR  58.80      Placed  270000.0\n",
              "1      2      M  79.33  Central  ...         Mkt&Fin  66.28      Placed  200000.0\n",
              "2      3      M  65.00  Central  ...         Mkt&Fin  57.80      Placed  250000.0\n",
              "3      4      M  56.00  Central  ...          Mkt&HR  59.43  Not Placed       NaN\n",
              "4      5      M  85.80  Central  ...         Mkt&Fin  55.50      Placed  425000.0\n",
              "\n",
              "[5 rows x 15 columns]"
            ]
          },
          "metadata": {},
          "execution_count": 3
        }
      ]
    },
    {
      "cell_type": "code",
      "metadata": {
        "colab": {
          "base_uri": "https://localhost:8080/",
          "height": 244
        },
        "id": "OmYOu3pO3KT7",
        "outputId": "0ee81961-c22d-4c31-ec96-1177172c52ea"
      },
      "source": [
        "df.tail()"
      ],
      "execution_count": null,
      "outputs": [
        {
          "output_type": "execute_result",
          "data": {
            "text/html": [
              "<div>\n",
              "<style scoped>\n",
              "    .dataframe tbody tr th:only-of-type {\n",
              "        vertical-align: middle;\n",
              "    }\n",
              "\n",
              "    .dataframe tbody tr th {\n",
              "        vertical-align: top;\n",
              "    }\n",
              "\n",
              "    .dataframe thead th {\n",
              "        text-align: right;\n",
              "    }\n",
              "</style>\n",
              "<table border=\"1\" class=\"dataframe\">\n",
              "  <thead>\n",
              "    <tr style=\"text-align: right;\">\n",
              "      <th></th>\n",
              "      <th>sl_no</th>\n",
              "      <th>gender</th>\n",
              "      <th>ssc_p</th>\n",
              "      <th>ssc_b</th>\n",
              "      <th>hsc_p</th>\n",
              "      <th>hsc_b</th>\n",
              "      <th>hsc_s</th>\n",
              "      <th>degree_p</th>\n",
              "      <th>degree_t</th>\n",
              "      <th>workex</th>\n",
              "      <th>etest_p</th>\n",
              "      <th>specialisation</th>\n",
              "      <th>mba_p</th>\n",
              "      <th>status</th>\n",
              "      <th>salary</th>\n",
              "    </tr>\n",
              "  </thead>\n",
              "  <tbody>\n",
              "    <tr>\n",
              "      <th>210</th>\n",
              "      <td>211</td>\n",
              "      <td>M</td>\n",
              "      <td>80.6</td>\n",
              "      <td>Others</td>\n",
              "      <td>82.0</td>\n",
              "      <td>Others</td>\n",
              "      <td>Commerce</td>\n",
              "      <td>77.6</td>\n",
              "      <td>Comm&amp;Mgmt</td>\n",
              "      <td>No</td>\n",
              "      <td>91.0</td>\n",
              "      <td>Mkt&amp;Fin</td>\n",
              "      <td>74.49</td>\n",
              "      <td>Placed</td>\n",
              "      <td>400000.0</td>\n",
              "    </tr>\n",
              "    <tr>\n",
              "      <th>211</th>\n",
              "      <td>212</td>\n",
              "      <td>M</td>\n",
              "      <td>58.0</td>\n",
              "      <td>Others</td>\n",
              "      <td>60.0</td>\n",
              "      <td>Others</td>\n",
              "      <td>Science</td>\n",
              "      <td>72.0</td>\n",
              "      <td>Sci&amp;Tech</td>\n",
              "      <td>No</td>\n",
              "      <td>74.0</td>\n",
              "      <td>Mkt&amp;Fin</td>\n",
              "      <td>53.62</td>\n",
              "      <td>Placed</td>\n",
              "      <td>275000.0</td>\n",
              "    </tr>\n",
              "    <tr>\n",
              "      <th>212</th>\n",
              "      <td>213</td>\n",
              "      <td>M</td>\n",
              "      <td>67.0</td>\n",
              "      <td>Others</td>\n",
              "      <td>67.0</td>\n",
              "      <td>Others</td>\n",
              "      <td>Commerce</td>\n",
              "      <td>73.0</td>\n",
              "      <td>Comm&amp;Mgmt</td>\n",
              "      <td>Yes</td>\n",
              "      <td>59.0</td>\n",
              "      <td>Mkt&amp;Fin</td>\n",
              "      <td>69.72</td>\n",
              "      <td>Placed</td>\n",
              "      <td>295000.0</td>\n",
              "    </tr>\n",
              "    <tr>\n",
              "      <th>213</th>\n",
              "      <td>214</td>\n",
              "      <td>F</td>\n",
              "      <td>74.0</td>\n",
              "      <td>Others</td>\n",
              "      <td>66.0</td>\n",
              "      <td>Others</td>\n",
              "      <td>Commerce</td>\n",
              "      <td>58.0</td>\n",
              "      <td>Comm&amp;Mgmt</td>\n",
              "      <td>No</td>\n",
              "      <td>70.0</td>\n",
              "      <td>Mkt&amp;HR</td>\n",
              "      <td>60.23</td>\n",
              "      <td>Placed</td>\n",
              "      <td>204000.0</td>\n",
              "    </tr>\n",
              "    <tr>\n",
              "      <th>214</th>\n",
              "      <td>215</td>\n",
              "      <td>M</td>\n",
              "      <td>62.0</td>\n",
              "      <td>Central</td>\n",
              "      <td>58.0</td>\n",
              "      <td>Others</td>\n",
              "      <td>Science</td>\n",
              "      <td>53.0</td>\n",
              "      <td>Comm&amp;Mgmt</td>\n",
              "      <td>No</td>\n",
              "      <td>89.0</td>\n",
              "      <td>Mkt&amp;HR</td>\n",
              "      <td>60.22</td>\n",
              "      <td>Not Placed</td>\n",
              "      <td>NaN</td>\n",
              "    </tr>\n",
              "  </tbody>\n",
              "</table>\n",
              "</div>"
            ],
            "text/plain": [
              "     sl_no gender  ssc_p    ssc_b  ...  specialisation  mba_p      status    salary\n",
              "210    211      M   80.6   Others  ...         Mkt&Fin  74.49      Placed  400000.0\n",
              "211    212      M   58.0   Others  ...         Mkt&Fin  53.62      Placed  275000.0\n",
              "212    213      M   67.0   Others  ...         Mkt&Fin  69.72      Placed  295000.0\n",
              "213    214      F   74.0   Others  ...          Mkt&HR  60.23      Placed  204000.0\n",
              "214    215      M   62.0  Central  ...          Mkt&HR  60.22  Not Placed       NaN\n",
              "\n",
              "[5 rows x 15 columns]"
            ]
          },
          "metadata": {},
          "execution_count": 4
        }
      ]
    },
    {
      "cell_type": "code",
      "metadata": {
        "colab": {
          "base_uri": "https://localhost:8080/"
        },
        "id": "Bvg-NtPC3sVY",
        "outputId": "2a0b900b-eced-4bbf-c7dd-0e280d152b6d"
      },
      "source": [
        "#check datatype or null \n",
        "df.info()"
      ],
      "execution_count": null,
      "outputs": [
        {
          "output_type": "stream",
          "name": "stdout",
          "text": [
            "<class 'pandas.core.frame.DataFrame'>\n",
            "RangeIndex: 215 entries, 0 to 214\n",
            "Data columns (total 15 columns):\n",
            " #   Column          Non-Null Count  Dtype  \n",
            "---  ------          --------------  -----  \n",
            " 0   sl_no           215 non-null    int64  \n",
            " 1   gender          215 non-null    object \n",
            " 2   ssc_p           215 non-null    float64\n",
            " 3   ssc_b           215 non-null    object \n",
            " 4   hsc_p           215 non-null    float64\n",
            " 5   hsc_b           215 non-null    object \n",
            " 6   hsc_s           215 non-null    object \n",
            " 7   degree_p        215 non-null    float64\n",
            " 8   degree_t        215 non-null    object \n",
            " 9   workex          215 non-null    object \n",
            " 10  etest_p         215 non-null    float64\n",
            " 11  specialisation  215 non-null    object \n",
            " 12  mba_p           215 non-null    float64\n",
            " 13  status          215 non-null    object \n",
            " 14  salary          148 non-null    float64\n",
            "dtypes: float64(6), int64(1), object(8)\n",
            "memory usage: 25.3+ KB\n"
          ]
        }
      ]
    },
    {
      "cell_type": "code",
      "metadata": {
        "colab": {
          "base_uri": "https://localhost:8080/",
          "height": 300
        },
        "id": "8bPtQWzr3xBx",
        "outputId": "abc0fa10-bfb3-4a8c-99ad-79ea83f471b7"
      },
      "source": [
        "#see some statics data\n",
        "df.describe()"
      ],
      "execution_count": null,
      "outputs": [
        {
          "output_type": "execute_result",
          "data": {
            "text/html": [
              "<div>\n",
              "<style scoped>\n",
              "    .dataframe tbody tr th:only-of-type {\n",
              "        vertical-align: middle;\n",
              "    }\n",
              "\n",
              "    .dataframe tbody tr th {\n",
              "        vertical-align: top;\n",
              "    }\n",
              "\n",
              "    .dataframe thead th {\n",
              "        text-align: right;\n",
              "    }\n",
              "</style>\n",
              "<table border=\"1\" class=\"dataframe\">\n",
              "  <thead>\n",
              "    <tr style=\"text-align: right;\">\n",
              "      <th></th>\n",
              "      <th>sl_no</th>\n",
              "      <th>ssc_p</th>\n",
              "      <th>hsc_p</th>\n",
              "      <th>degree_p</th>\n",
              "      <th>etest_p</th>\n",
              "      <th>mba_p</th>\n",
              "      <th>salary</th>\n",
              "    </tr>\n",
              "  </thead>\n",
              "  <tbody>\n",
              "    <tr>\n",
              "      <th>count</th>\n",
              "      <td>215.000000</td>\n",
              "      <td>215.000000</td>\n",
              "      <td>215.000000</td>\n",
              "      <td>215.000000</td>\n",
              "      <td>215.000000</td>\n",
              "      <td>215.000000</td>\n",
              "      <td>148.000000</td>\n",
              "    </tr>\n",
              "    <tr>\n",
              "      <th>mean</th>\n",
              "      <td>108.000000</td>\n",
              "      <td>67.303395</td>\n",
              "      <td>66.333163</td>\n",
              "      <td>66.370186</td>\n",
              "      <td>72.100558</td>\n",
              "      <td>62.278186</td>\n",
              "      <td>288655.405405</td>\n",
              "    </tr>\n",
              "    <tr>\n",
              "      <th>std</th>\n",
              "      <td>62.209324</td>\n",
              "      <td>10.827205</td>\n",
              "      <td>10.897509</td>\n",
              "      <td>7.358743</td>\n",
              "      <td>13.275956</td>\n",
              "      <td>5.833385</td>\n",
              "      <td>93457.452420</td>\n",
              "    </tr>\n",
              "    <tr>\n",
              "      <th>min</th>\n",
              "      <td>1.000000</td>\n",
              "      <td>40.890000</td>\n",
              "      <td>37.000000</td>\n",
              "      <td>50.000000</td>\n",
              "      <td>50.000000</td>\n",
              "      <td>51.210000</td>\n",
              "      <td>200000.000000</td>\n",
              "    </tr>\n",
              "    <tr>\n",
              "      <th>25%</th>\n",
              "      <td>54.500000</td>\n",
              "      <td>60.600000</td>\n",
              "      <td>60.900000</td>\n",
              "      <td>61.000000</td>\n",
              "      <td>60.000000</td>\n",
              "      <td>57.945000</td>\n",
              "      <td>240000.000000</td>\n",
              "    </tr>\n",
              "    <tr>\n",
              "      <th>50%</th>\n",
              "      <td>108.000000</td>\n",
              "      <td>67.000000</td>\n",
              "      <td>65.000000</td>\n",
              "      <td>66.000000</td>\n",
              "      <td>71.000000</td>\n",
              "      <td>62.000000</td>\n",
              "      <td>265000.000000</td>\n",
              "    </tr>\n",
              "    <tr>\n",
              "      <th>75%</th>\n",
              "      <td>161.500000</td>\n",
              "      <td>75.700000</td>\n",
              "      <td>73.000000</td>\n",
              "      <td>72.000000</td>\n",
              "      <td>83.500000</td>\n",
              "      <td>66.255000</td>\n",
              "      <td>300000.000000</td>\n",
              "    </tr>\n",
              "    <tr>\n",
              "      <th>max</th>\n",
              "      <td>215.000000</td>\n",
              "      <td>89.400000</td>\n",
              "      <td>97.700000</td>\n",
              "      <td>91.000000</td>\n",
              "      <td>98.000000</td>\n",
              "      <td>77.890000</td>\n",
              "      <td>940000.000000</td>\n",
              "    </tr>\n",
              "  </tbody>\n",
              "</table>\n",
              "</div>"
            ],
            "text/plain": [
              "            sl_no       ssc_p  ...       mba_p         salary\n",
              "count  215.000000  215.000000  ...  215.000000     148.000000\n",
              "mean   108.000000   67.303395  ...   62.278186  288655.405405\n",
              "std     62.209324   10.827205  ...    5.833385   93457.452420\n",
              "min      1.000000   40.890000  ...   51.210000  200000.000000\n",
              "25%     54.500000   60.600000  ...   57.945000  240000.000000\n",
              "50%    108.000000   67.000000  ...   62.000000  265000.000000\n",
              "75%    161.500000   75.700000  ...   66.255000  300000.000000\n",
              "max    215.000000   89.400000  ...   77.890000  940000.000000\n",
              "\n",
              "[8 rows x 7 columns]"
            ]
          },
          "metadata": {},
          "execution_count": 10
        }
      ]
    },
    {
      "cell_type": "markdown",
      "metadata": {
        "id": "siexnnWo37rC"
      },
      "source": [
        "**2.2 CLEANING OF DATA :**"
      ]
    },
    {
      "cell_type": "code",
      "metadata": {
        "colab": {
          "base_uri": "https://localhost:8080/"
        },
        "id": "7qdK0kzc3xGQ",
        "outputId": "9d86e573-d81f-465d-a406-a4064a675344"
      },
      "source": [
        "#check number of rows and columns\n",
        "print(df.shape[0]) #no of rows\n",
        "print(df.shape[1]) #no of columns"
      ],
      "execution_count": null,
      "outputs": [
        {
          "output_type": "stream",
          "name": "stdout",
          "text": [
            "215\n",
            "15\n"
          ]
        }
      ]
    },
    {
      "cell_type": "code",
      "metadata": {
        "colab": {
          "base_uri": "https://localhost:8080/"
        },
        "id": "GWfdcxMs3xJx",
        "outputId": "f24cff12-7b0e-4a36-c0ac-86e543c2342b"
      },
      "source": [
        "# check null values in df\n",
        "df.isnull().sum()"
      ],
      "execution_count": null,
      "outputs": [
        {
          "output_type": "execute_result",
          "data": {
            "text/plain": [
              "sl_no              0\n",
              "gender             0\n",
              "ssc_p              0\n",
              "ssc_b              0\n",
              "hsc_p              0\n",
              "hsc_b              0\n",
              "hsc_s              0\n",
              "degree_p           0\n",
              "degree_t           0\n",
              "workex             0\n",
              "etest_p            0\n",
              "specialisation     0\n",
              "mba_p              0\n",
              "status             0\n",
              "salary            67\n",
              "dtype: int64"
            ]
          },
          "metadata": {},
          "execution_count": 12
        }
      ]
    },
    {
      "cell_type": "code",
      "metadata": {
        "id": "MsFz1Ah53xMo"
      },
      "source": [
        "#fill salary null value with mode \n",
        "df[\"salary\"]=df[\"salary\"].fillna(df[\"salary\"].mean())"
      ],
      "execution_count": null,
      "outputs": []
    },
    {
      "cell_type": "code",
      "metadata": {
        "colab": {
          "base_uri": "https://localhost:8080/"
        },
        "id": "iyKyZJtZ3xPg",
        "outputId": "f1cfcdd6-784f-46f6-805d-0beb5dbffdef"
      },
      "source": [
        "#check datatypes\n",
        "df.dtypes"
      ],
      "execution_count": null,
      "outputs": [
        {
          "output_type": "execute_result",
          "data": {
            "text/plain": [
              "sl_no               int64\n",
              "gender             object\n",
              "ssc_p             float64\n",
              "ssc_b              object\n",
              "hsc_p             float64\n",
              "hsc_b              object\n",
              "hsc_s              object\n",
              "degree_p          float64\n",
              "degree_t           object\n",
              "workex             object\n",
              "etest_p           float64\n",
              "specialisation     object\n",
              "mba_p             float64\n",
              "status             object\n",
              "salary            float64\n",
              "dtype: object"
            ]
          },
          "metadata": {},
          "execution_count": 14
        }
      ]
    },
    {
      "cell_type": "markdown",
      "metadata": {
        "id": "9AmHT-XYj6tc"
      },
      "source": [
        "only salary Column has 67 null values\n",
        "so we delete or replace this null value with some value like mean, median or 0.\n",
        "\n",
        "Salary null value fill with salary mean value because it is average of salary column and it gives better performance in prediction time if use this column. "
      ]
    },
    {
      "cell_type": "markdown",
      "metadata": {
        "id": "jcwuDr794kw7"
      },
      "source": [
        "**2.3 HANDLING WITH CATAGORICAL DATA:**"
      ]
    },
    {
      "cell_type": "code",
      "metadata": {
        "id": "Un7tAQ_03xSH"
      },
      "source": [
        "# we convert object type data into numerical datatype\n",
        "    \n",
        "df['gender']=df['gender'].astype('category')\n",
        "df['status']=df['status'].astype('category')\n",
        "df['workex']=df['workex'].astype('category')\n",
        "df['hsc_b']=df['hsc_b'].astype('category')\n",
        "df['ssc_b']=df['ssc_b'].astype('category')"
      ],
      "execution_count": null,
      "outputs": []
    },
    {
      "cell_type": "code",
      "metadata": {
        "colab": {
          "base_uri": "https://localhost:8080/"
        },
        "id": "eI-e-NZc3xUw",
        "outputId": "1a6bbb76-67f2-47fa-867a-d9ee9974186b"
      },
      "source": [
        "#check how many unique data in these dataframe\n",
        "\n",
        "print(df['gender'].unique())\n",
        "print(df['status'].unique())\n",
        "print(df['workex'].unique())\n",
        "print(df['hsc_b'].unique())\n",
        "print(df['ssc_b'].unique())"
      ],
      "execution_count": null,
      "outputs": [
        {
          "output_type": "stream",
          "name": "stdout",
          "text": [
            "['M', 'F']\n",
            "Categories (2, object): ['M', 'F']\n",
            "['Placed', 'Not Placed']\n",
            "Categories (2, object): ['Placed', 'Not Placed']\n",
            "['No', 'Yes']\n",
            "Categories (2, object): ['No', 'Yes']\n",
            "['Others', 'Central']\n",
            "Categories (2, object): ['Others', 'Central']\n",
            "['Others', 'Central']\n",
            "Categories (2, object): ['Others', 'Central']\n"
          ]
        }
      ]
    },
    {
      "cell_type": "code",
      "metadata": {
        "id": "XrhDj-fz3xZr"
      },
      "source": [
        "# Replace the value in 0,1 or quantitative parameters\n",
        "df[\"gender\"].replace([\"F\",\"M\"],[0,1],inplace=True)\n",
        "df[\"status\"].replace(['Placed',\"Not Placed\"],[1,0],inplace=True)\n",
        "\n",
        "df['workex'].replace(to_replace =\"Yes\", value =1,inplace=True) \n",
        "df['workex'].replace(to_replace =\"No\", value =0,inplace=True)"
      ],
      "execution_count": null,
      "outputs": []
    },
    {
      "cell_type": "code",
      "metadata": {
        "colab": {
          "base_uri": "https://localhost:8080/"
        },
        "id": "tPzmMCh04zbi",
        "outputId": "397c0b35-7d9b-4108-de62-9395ef81f76d"
      },
      "source": [
        "df[\"gender\"].dtype\n"
      ],
      "execution_count": null,
      "outputs": [
        {
          "output_type": "execute_result",
          "data": {
            "text/plain": [
              "dtype('int64')"
            ]
          },
          "metadata": {},
          "execution_count": 18
        }
      ]
    },
    {
      "cell_type": "code",
      "metadata": {
        "colab": {
          "base_uri": "https://localhost:8080/",
          "height": 226
        },
        "id": "c6Ka7ukq4ziZ",
        "outputId": "8c55a588-71d4-4f61-9f41-095319add86a"
      },
      "source": [
        "df.head()"
      ],
      "execution_count": null,
      "outputs": [
        {
          "output_type": "execute_result",
          "data": {
            "text/html": [
              "<div>\n",
              "<style scoped>\n",
              "    .dataframe tbody tr th:only-of-type {\n",
              "        vertical-align: middle;\n",
              "    }\n",
              "\n",
              "    .dataframe tbody tr th {\n",
              "        vertical-align: top;\n",
              "    }\n",
              "\n",
              "    .dataframe thead th {\n",
              "        text-align: right;\n",
              "    }\n",
              "</style>\n",
              "<table border=\"1\" class=\"dataframe\">\n",
              "  <thead>\n",
              "    <tr style=\"text-align: right;\">\n",
              "      <th></th>\n",
              "      <th>sl_no</th>\n",
              "      <th>gender</th>\n",
              "      <th>ssc_p</th>\n",
              "      <th>ssc_b</th>\n",
              "      <th>hsc_p</th>\n",
              "      <th>hsc_b</th>\n",
              "      <th>hsc_s</th>\n",
              "      <th>degree_p</th>\n",
              "      <th>degree_t</th>\n",
              "      <th>workex</th>\n",
              "      <th>etest_p</th>\n",
              "      <th>specialisation</th>\n",
              "      <th>mba_p</th>\n",
              "      <th>status</th>\n",
              "      <th>salary</th>\n",
              "    </tr>\n",
              "  </thead>\n",
              "  <tbody>\n",
              "    <tr>\n",
              "      <th>0</th>\n",
              "      <td>1</td>\n",
              "      <td>1</td>\n",
              "      <td>67.00</td>\n",
              "      <td>Others</td>\n",
              "      <td>91.00</td>\n",
              "      <td>Others</td>\n",
              "      <td>Commerce</td>\n",
              "      <td>58.00</td>\n",
              "      <td>Sci&amp;Tech</td>\n",
              "      <td>0</td>\n",
              "      <td>55.0</td>\n",
              "      <td>Mkt&amp;HR</td>\n",
              "      <td>58.80</td>\n",
              "      <td>1</td>\n",
              "      <td>270000.000000</td>\n",
              "    </tr>\n",
              "    <tr>\n",
              "      <th>1</th>\n",
              "      <td>2</td>\n",
              "      <td>1</td>\n",
              "      <td>79.33</td>\n",
              "      <td>Central</td>\n",
              "      <td>78.33</td>\n",
              "      <td>Others</td>\n",
              "      <td>Science</td>\n",
              "      <td>77.48</td>\n",
              "      <td>Sci&amp;Tech</td>\n",
              "      <td>1</td>\n",
              "      <td>86.5</td>\n",
              "      <td>Mkt&amp;Fin</td>\n",
              "      <td>66.28</td>\n",
              "      <td>1</td>\n",
              "      <td>200000.000000</td>\n",
              "    </tr>\n",
              "    <tr>\n",
              "      <th>2</th>\n",
              "      <td>3</td>\n",
              "      <td>1</td>\n",
              "      <td>65.00</td>\n",
              "      <td>Central</td>\n",
              "      <td>68.00</td>\n",
              "      <td>Central</td>\n",
              "      <td>Arts</td>\n",
              "      <td>64.00</td>\n",
              "      <td>Comm&amp;Mgmt</td>\n",
              "      <td>0</td>\n",
              "      <td>75.0</td>\n",
              "      <td>Mkt&amp;Fin</td>\n",
              "      <td>57.80</td>\n",
              "      <td>1</td>\n",
              "      <td>250000.000000</td>\n",
              "    </tr>\n",
              "    <tr>\n",
              "      <th>3</th>\n",
              "      <td>4</td>\n",
              "      <td>1</td>\n",
              "      <td>56.00</td>\n",
              "      <td>Central</td>\n",
              "      <td>52.00</td>\n",
              "      <td>Central</td>\n",
              "      <td>Science</td>\n",
              "      <td>52.00</td>\n",
              "      <td>Sci&amp;Tech</td>\n",
              "      <td>0</td>\n",
              "      <td>66.0</td>\n",
              "      <td>Mkt&amp;HR</td>\n",
              "      <td>59.43</td>\n",
              "      <td>0</td>\n",
              "      <td>288655.405405</td>\n",
              "    </tr>\n",
              "    <tr>\n",
              "      <th>4</th>\n",
              "      <td>5</td>\n",
              "      <td>1</td>\n",
              "      <td>85.80</td>\n",
              "      <td>Central</td>\n",
              "      <td>73.60</td>\n",
              "      <td>Central</td>\n",
              "      <td>Commerce</td>\n",
              "      <td>73.30</td>\n",
              "      <td>Comm&amp;Mgmt</td>\n",
              "      <td>0</td>\n",
              "      <td>96.8</td>\n",
              "      <td>Mkt&amp;Fin</td>\n",
              "      <td>55.50</td>\n",
              "      <td>1</td>\n",
              "      <td>425000.000000</td>\n",
              "    </tr>\n",
              "  </tbody>\n",
              "</table>\n",
              "</div>"
            ],
            "text/plain": [
              "   sl_no  gender  ssc_p    ssc_b  ...  specialisation  mba_p status         salary\n",
              "0      1       1  67.00   Others  ...          Mkt&HR  58.80      1  270000.000000\n",
              "1      2       1  79.33  Central  ...         Mkt&Fin  66.28      1  200000.000000\n",
              "2      3       1  65.00  Central  ...         Mkt&Fin  57.80      1  250000.000000\n",
              "3      4       1  56.00  Central  ...          Mkt&HR  59.43      0  288655.405405\n",
              "4      5       1  85.80  Central  ...         Mkt&Fin  55.50      1  425000.000000\n",
              "\n",
              "[5 rows x 15 columns]"
            ]
          },
          "metadata": {},
          "execution_count": 19
        }
      ]
    },
    {
      "cell_type": "code",
      "metadata": {
        "id": "M-G5qC2r5AoE"
      },
      "source": [
        "#create a new dataframe of only numerical values\n",
        "numerical_df=df.select_dtypes([\"float64\",\"int64\"])"
      ],
      "execution_count": null,
      "outputs": []
    },
    {
      "cell_type": "markdown",
      "metadata": {
        "id": "Z-gPQvw45Fmy"
      },
      "source": [
        "**3. VISUALIZING THE DATA:**"
      ]
    },
    {
      "cell_type": "code",
      "metadata": {
        "colab": {
          "base_uri": "https://localhost:8080/",
          "height": 335
        },
        "id": "IDl8Zhqp5Euq",
        "outputId": "e1b1555f-78e9-4eae-da73-42f0d03cfc6e"
      },
      "source": [
        "# show the percentage of male or female\n",
        "fig = plt.figure()\n",
        "ax = fig.add_axes([0,0,1,1])\n",
        "ax.axis('equal')\n",
        "gender = ['Male','Female']\n",
        "students = [139,76]\n",
        "ax.pie(students, labels = gender,autopct='%1.2f%%',colors = [\"#1f77b4\", \"#ff7f0e\"])\n",
        "plt.title('Pie chart ')\n",
        "plt.show()"
      ],
      "execution_count": null,
      "outputs": [
        {
          "output_type": "display_data",
          "data": {
            "image/png": "[encoded data removed]",
            "text/plain": [
              "<Figure size 432x288 with 1 Axes>"
            ]
          },
          "metadata": {}
        }
      ]
    },
    {
      "cell_type": "code",
      "metadata": {
        "id": "QJ8O_EWu5bIa",
        "colab": {
          "base_uri": "https://localhost:8080/",
          "height": 345
        },
        "outputId": "668f2eda-a109-46cb-df53-7e836ec91124"
      },
      "source": [
        "#show the no. of student how placed or not placed.\n",
        "\n",
        "print(\"Number of not placed Student \"+ str(len(df[df[\"status\"]==0])))\n",
        "print(\"Number of placed Student \"+ str(len(df[df[\"status\"]==1])))\n",
        "\n",
        "plt.bar([0],height=len(df[df[\"status\"]==0]))\n",
        "plt.bar([1],height=len(df[df[\"status\"]==1]))\n",
        "\n",
        "plt.xlabel(\"Status\")\n",
        "plt.ylabel(\"Count\")\n",
        "\n",
        "plt.xticks(np.arange(2), ('Not placed', 'Placed'))\n",
        "plt.title(\"No of Student placed\\n\")\n",
        "plt.show()"
      ],
      "execution_count": null,
      "outputs": [
        {
          "output_type": "stream",
          "name": "stdout",
          "text": [
            "Number of not placed Student 67\n",
            "Number of placed Student 148\n"
          ]
        },
        {
          "output_type": "display_data",
          "data": {
            "image/png": "[encoded data removed]",
            "text/plain": [
              "<Figure size 432x288 with 1 Axes>"
            ]
          },
          "metadata": {
            "needs_background": "light"
          }
        }
      ]
    },
    {
      "cell_type": "code",
      "metadata": {
        "colab": {
          "base_uri": "https://localhost:8080/",
          "height": 422
        },
        "id": "2cC6jaYU5Vua",
        "outputId": "9125e8ea-f4f3-472b-e5e2-c5e53ef33e1a"
      },
      "source": [
        "#average percentage of all education qualification\n",
        "values = [(numerical_df['ssc_p'].mean()),(numerical_df['hsc_p'].mean()),(numerical_df['mba_p'].mean()),(numerical_df['degree_p'].mean())]\n",
        "print('scc_p mean = ' +str(numerical_df['ssc_p'].mean()))\n",
        "print('hsc_p mean = ' +str(numerical_df['hsc_p'].mean()))\n",
        "print('mba_p mean = ' +str(numerical_df['mba_p'].mean()))\n",
        "print('degree_p mean = ' +str(numerical_df['degree_p'].mean()))\n",
        "fig = plt.figure()\n",
        "ax = fig.add_axes([0,0,1,1])\n",
        "names = ['ssc_p','hsc_p','mba_p','degree_p']\n",
        "ax.set_ylabel('Average percentages')\n",
        "ax.set_title('Average Percentage')\n",
        "ax.bar(names,values,width = 0.5,color=[\"#2ca02c\"])\n",
        "plt.show()"
      ],
      "execution_count": null,
      "outputs": [
        {
          "output_type": "stream",
          "name": "stdout",
          "text": [
            "scc_p mean = 67.3033953488372\n",
            "hsc_p mean = 66.33316279069766\n",
            "mba_p mean = 62.278186046511586\n",
            "degree_p mean = 66.37018604651163\n"
          ]
        },
        {
          "output_type": "display_data",
          "data": {
            "image/png": "[encoded data removed]",
            "text/plain": [
              "<Figure size 432x288 with 1 Axes>"
            ]
          },
          "metadata": {
            "needs_background": "light"
          }
        }
      ]
    },
    {
      "cell_type": "markdown",
      "metadata": {
        "id": "bwTsbqFT5nIq"
      },
      "source": [
        "**Questions 1.**\n",
        "**Which factor influenced a candidate in getting placed?**\n",
        "**or** \n",
        "\n",
        "\n",
        "**Does percentage matters for one to get placed?**"
      ]
    },
    {
      "cell_type": "code",
      "metadata": {
        "colab": {
          "base_uri": "https://localhost:8080/"
        },
        "id": "IhE3Zlgi5jDc",
        "outputId": "a8f04385-985d-4cd3-b5cf-ad3c4cfa7b07"
      },
      "source": [
        "#show the relation between diffrent qualification placement status usinng correlation.\n",
        "\n",
        "print('ssc_p to placement ', round(numerical_df['status'].corr(numerical_df['ssc_p'])*100,1),'%')\n",
        "print('hsc_p to placement ', round(numerical_df['status'].corr(numerical_df['hsc_p'])*100,1),'%')\n",
        "print('mba_p to placement ', round(numerical_df['status'].corr(numerical_df['mba_p'])*100,1),'%')\n",
        "print('degree_p to placement ', round(numerical_df['status'].corr(numerical_df['degree_p'])*100,1),'%')\n",
        "print('etest_p to placement ', round(numerical_df['status'].corr(numerical_df['etest_p'])*100,1),'%')\n",
        "#print('workexp to placement ', round(numerical_df['status'].corr(numerical_df['workexp'])*100,1),'%')"
      ],
      "execution_count": null,
      "outputs": [
        {
          "output_type": "stream",
          "name": "stdout",
          "text": [
            "ssc_p to placement  60.8 %\n",
            "hsc_p to placement  49.1 %\n",
            "mba_p to placement  7.7 %\n",
            "degree_p to placement  48.0 %\n",
            "etest_p to placement  12.8 %\n"
          ]
        }
      ]
    },
    {
      "cell_type": "code",
      "metadata": {
        "colab": {
          "base_uri": "https://localhost:8080/",
          "height": 112
        },
        "id": "ncNhkV7N6B5p",
        "outputId": "07b0099d-9455-4059-c209-8fb71846dc0e"
      },
      "source": [
        "df_grade = df.groupby(['status']).mean()[['hsc_p', 'degree_p', 'mba_p']].reset_index()\n",
        "df_grade.head()"
      ],
      "execution_count": null,
      "outputs": [
        {
          "output_type": "execute_result",
          "data": {
            "text/html": [
              "<div>\n",
              "<style scoped>\n",
              "    .dataframe tbody tr th:only-of-type {\n",
              "        vertical-align: middle;\n",
              "    }\n",
              "\n",
              "    .dataframe tbody tr th {\n",
              "        vertical-align: top;\n",
              "    }\n",
              "\n",
              "    .dataframe thead th {\n",
              "        text-align: right;\n",
              "    }\n",
              "</style>\n",
              "<table border=\"1\" class=\"dataframe\">\n",
              "  <thead>\n",
              "    <tr style=\"text-align: right;\">\n",
              "      <th></th>\n",
              "      <th>status</th>\n",
              "      <th>hsc_p</th>\n",
              "      <th>degree_p</th>\n",
              "      <th>mba_p</th>\n",
              "    </tr>\n",
              "  </thead>\n",
              "  <tbody>\n",
              "    <tr>\n",
              "      <th>0</th>\n",
              "      <td>0</td>\n",
              "      <td>58.395522</td>\n",
              "      <td>61.134179</td>\n",
              "      <td>61.612836</td>\n",
              "    </tr>\n",
              "    <tr>\n",
              "      <th>1</th>\n",
              "      <td>1</td>\n",
              "      <td>69.926554</td>\n",
              "      <td>68.740541</td>\n",
              "      <td>62.579392</td>\n",
              "    </tr>\n",
              "  </tbody>\n",
              "</table>\n",
              "</div>"
            ],
            "text/plain": [
              "   status      hsc_p   degree_p      mba_p\n",
              "0       0  58.395522  61.134179  61.612836\n",
              "1       1  69.926554  68.740541  62.579392"
            ]
          },
          "metadata": {},
          "execution_count": 25
        }
      ]
    },
    {
      "cell_type": "code",
      "metadata": {
        "id": "2pkgNn_t6OKq"
      },
      "source": [
        "#Student Grades and Campus Placement\n",
        "import plotly\n",
        "import plotly.graph_objs as go\n",
        "from plotly.subplots import make_subplots\n",
        "plotly.offline.init_notebook_mode(connected=True)\n",
        "\n",
        "import matplotlib.pyplot as plt\n",
        "%matplotlib inline\n",
        "\n",
        "trace1 = go.Bar(\n",
        "    x = ['High School', 'Bachelor', 'MBA'],\n",
        "    y = df_grade[df_grade['status']==0].drop('status', axis=1).values[0],\n",
        "    name = 'Not Placed'\n",
        ")\n",
        "\n",
        "trace2 = go.Bar(\n",
        "    x = ['High School', 'Bachelor', 'MBA'],\n",
        "    y = df_grade[df_grade['status']==1].drop('status', axis=1).values[0],\n",
        "    name = 'Placed'\n",
        ")\n",
        "\n",
        "data = [trace1, trace2]\n",
        "\n",
        "layout = go.Layout(\n",
        "    yaxis = dict(title = 'Grade'),\n",
        "    xaxis = dict(title = 'Stage'),\n",
        "    title = 'Student Grades and Campus Placement')\n",
        "fig = go.Figure(data=data, layout=layout)\n",
        "fig.show()"
      ],
      "execution_count": null,
      "outputs": []
    },
    {
      "cell_type": "markdown",
      "metadata": {
        "id": "UbalUjy88ljO"
      },
      "source": [
        "**2.Question**\n",
        "**what is the percentage of female or male how get the placement?** "
      ]
    },
    {
      "cell_type": "code",
      "metadata": {
        "id": "223fKHKg6QL0"
      },
      "source": [
        "def count_genderwise_status(gender=0,status=0):\n",
        "    '''\n",
        "    dtype(int,boolen) gender : male for 1, female for 0\n",
        "    dtype(int,boolen) status : placed for 1, not place for 0\n",
        "    \n",
        "    return : return the total number of status(placed or not placed) with respect to gender\n",
        "    \n",
        "    Example :\n",
        "     \n",
        "          if gender is female and status is placed then\n",
        "          gender=0 ,placed=1\n",
        "          \n",
        "          count_genderwise_status(0,1)\n",
        "          \n",
        "          here : O for Female\n",
        "                 1 for placed\n",
        "          \n",
        "          return int type\n",
        "          \n",
        "   means : 48 female has placed.\n",
        "\n",
        "   Example 2:\n",
        "          \n",
        "          count_genderwise_status(1,0)\n",
        "          \n",
        "          here : 1 for male\n",
        "                 0 for not placed\n",
        "          return total number of male person who has not placed. \n",
        "    '''   \n",
        "    i=0\n",
        "    for j in range(len(df)):\n",
        "        j=j+1\n",
        "        if df['gender'][j]==gender and df['status'][j]==status:\n",
        "            i+=1\n",
        "\n",
        "    if gender==0 and status==0:\n",
        "        print(\"Total female who don't get placement is \"+str(i))\n",
        "    if gender==0 and status==1:\n",
        "        print(\"Total female who get placement is \"+str(i))\n",
        "    if gender==1 and status==0:\n",
        "        print(\"Total male who don't get placement is \"+str(i))\n",
        "    if gender==1 and status==1:\n",
        "        print(\"Total male who get placement is \"+str(i))\n",
        "    \n",
        "\n",
        "    return i"
      ],
      "execution_count": null,
      "outputs": []
    },
    {
      "cell_type": "code",
      "metadata": {
        "colab": {
          "base_uri": "https://localhost:8080/",
          "height": 264
        },
        "id": "b0K3jYzc68_D",
        "outputId": "730961cb-5579-4501-d570-266c95e05b61"
      },
      "source": [
        "#plot pie chart of placeement\n",
        "plt.pie([22.33,46.51,31.17],\n",
        "        labels=[\"female placed %\",\"male placed %\",'not placed student'],\n",
        "        autopct='%1.2f%%')\n",
        "plt.title('student placement percentage')\n",
        "plt.show()\n"
      ],
      "execution_count": null,
      "outputs": [
        {
          "output_type": "display_data",
          "data": {
            "image/png": "[encoded data removed]",
            "text/plain": [
              "<Figure size 432x288 with 1 Axes>"
            ]
          },
          "metadata": {}
        }
      ]
    },
    {
      "cell_type": "markdown",
      "metadata": {
        "id": "8-agnvajq0wr"
      },
      "source": [
        "we see the above pie chart easly to know the percentage of the female placed percentage is 22.33%, and male placed percentage is 46.51% or not placed student percentage is 31.17%."
      ]
    },
    {
      "cell_type": "markdown",
      "metadata": {
        "id": "-gjKvFi57Bqs"
      },
      "source": [
        "**Question 3.**\n",
        "**Which degree specialization is much demanded by corporate?**"
      ]
    },
    {
      "cell_type": "code",
      "metadata": {
        "colab": {
          "base_uri": "https://localhost:8080/",
          "height": 345
        },
        "id": "Bmo8Tp0w7Q2K",
        "outputId": "221cb5ff-1af9-4106-daa0-0fd149aac543"
      },
      "source": [
        "# which specialisation is more demand in campus selection\n",
        "\n",
        "plt.bar([1],height=len(df[df[\"specialisation\"]==\"Mkt&HR\"]))\n",
        "plt.bar([0],height=len(df[df[\"specialisation\"]==\"Mkt&Fin\"]))\n",
        "plt.xlabel(\"specialisation in Mkt&Fin and Mkt&HR\")\n",
        "plt.ylabel(\"no.of specialisation\")\n",
        "\n",
        "print(\"specialisation in Mkt&Fin \"+ str(len(df[df[\"specialisation\"]==\"Mkt&Fin\"])))\n",
        "print(\"specialisation in Mkt&HR \"+ str(len(df[df[\"specialisation\"]==\"Mkt&HR\"])))\n",
        "plt.xticks(np.arange(2), ('Mkt&Fin', 'Mkt&HR'))\n",
        "plt.title(\"which specialisation is more demand in campus selection\\n\")\n",
        "plt.show()"
      ],
      "execution_count": null,
      "outputs": [
        {
          "output_type": "stream",
          "name": "stdout",
          "text": [
            "specialisation in Mkt&Fin 120\n",
            "specialisation in Mkt&HR 95\n"
          ]
        },
        {
          "output_type": "display_data",
          "data": {
            "image/png": "[encoded data removed]",
            "text/plain": [
              "<Figure size 432x288 with 1 Axes>"
            ]
          },
          "metadata": {
            "needs_background": "light"
          }
        }
      ]
    },
    {
      "cell_type": "markdown",
      "metadata": {
        "id": "qRV-sJes7bTy"
      },
      "source": [
        "**4 PLACEMENT PREDICTION:**\n",
        "\n",
        "\n",
        "\n",
        "\n",
        "Question 4. Predictiction model using differnt ML algorithms? "
      ]
    },
    {
      "cell_type": "markdown",
      "metadata": {
        "id": "wMRJe37i73qD"
      },
      "source": [
        "**4.0 Splitting the dataset into the Training set and Test set**"
      ]
    },
    {
      "cell_type": "code",
      "metadata": {
        "id": "sWmyUR1C7w5j"
      },
      "source": [
        "x_train , x_test , y_train , y_test = train_test_split(\n",
        "    df[['ssc_p','hsc_p','degree_p','workex','etest_p','mba_p']],\n",
        "    df.status,\n",
        "    test_size=0.2)"
      ],
      "execution_count": null,
      "outputs": []
    },
    {
      "cell_type": "code",
      "metadata": {
        "colab": {
          "base_uri": "https://localhost:8080/"
        },
        "id": "OLsT1Gjn8C1i",
        "outputId": "5898bed0-9ca2-45a7-fbb4-19724dab94bb"
      },
      "source": [
        "len(y_train)"
      ],
      "execution_count": null,
      "outputs": [
        {
          "output_type": "execute_result",
          "data": {
            "text/plain": [
              "172"
            ]
          },
          "metadata": {},
          "execution_count": 31
        }
      ]
    },
    {
      "cell_type": "code",
      "metadata": {
        "id": "Vzr7vLNi8Ju6"
      },
      "source": [
        "# Feature Scaling\n",
        "from sklearn.preprocessing import StandardScaler\n",
        "sc = StandardScaler()\n",
        "x_train = sc.fit_transform(x_train)\n",
        "x_test = sc.transform(x_test)"
      ],
      "execution_count": null,
      "outputs": []
    },
    {
      "cell_type": "markdown",
      "metadata": {
        "id": "5Imxl8-I8sgQ"
      },
      "source": [
        "**4.1 LOGISTIC REGRESSION MODEL :**"
      ]
    },
    {
      "cell_type": "code",
      "metadata": {
        "id": "t8Z720SK88m8"
      },
      "source": [
        "# create a logistic regresssion model and fit it.\n",
        "def lr_model(x_train,y_train,x_test,y_test):\n",
        "    \n",
        "    '''\n",
        "    Input\n",
        "      x_train :training featue\n",
        "      x_test  :test featue\n",
        "      y_train :training output data\n",
        "      y_test  :testing  output data\n",
        "      \n",
        "      \n",
        "    Output :\n",
        "     accuracy_score       :\n",
        "     classification_report:\n",
        "    '''\n",
        "    \n",
        "    print(\"Using Logistic Regression Method\")\n",
        "    model=LogisticRegression()\n",
        "    model.fit(x_train,y_train)\n",
        "    prediction=model.predict(x_test)\n",
        "\n",
        "    print('Accuracy {0:.2f}%'.format((accuracy_score(y_test,prediction)*100)))\n",
        "    print(classification_report(y_test,prediction))"
      ],
      "execution_count": null,
      "outputs": []
    },
    {
      "cell_type": "markdown",
      "metadata": {
        "id": "JuWvb0icB9XB"
      },
      "source": [
        "**4.3 RANDOM FOREST CLASSIFICATION MODEL:**"
      ]
    },
    {
      "cell_type": "code",
      "metadata": {
        "id": "8XV-JELkB_uK"
      },
      "source": [
        "# Fitting Random Forest Classification to the Training set\n",
        "def rfc_model(x_train,y_train,x_test,y_test):\n",
        "    \n",
        "    '''\n",
        "    Input\n",
        "      x_train :training featue\n",
        "      x_test  :test featue\n",
        "      y_train :training output data\n",
        "      y_test  :testing  output data\n",
        "      \n",
        "      \n",
        "    Output :\n",
        "     accuracy_score       :\n",
        "     classification_report:\n",
        "    '''\n",
        "    \n",
        "    print(\"using Random Forest Classification method\")\n",
        "    model=RandomForestClassifier(n_estimators =14, criterion = 'entropy', random_state = 41)\n",
        "    model.fit(x_train,y_train)\n",
        "    prediction=model.predict(x_test)\n",
        "\n",
        "    print('Accuracy {0:.2f}%'.format((accuracy_score(y_test,prediction)*100)))\n",
        "    print(classification_report(y_test,prediction))"
      ],
      "execution_count": null,
      "outputs": []
    },
    {
      "cell_type": "markdown",
      "metadata": {
        "id": "P24avhGXCDPi"
      },
      "source": [
        "**RESULT:**"
      ]
    },
    {
      "cell_type": "code",
      "metadata": {
        "colab": {
          "base_uri": "https://localhost:8080/"
        },
        "id": "uBwkGf1OCfsZ",
        "outputId": "1336c43e-9422-4025-95db-6acb28718ba8"
      },
      "source": [
        "lr_model(x_train,y_train,x_test,y_test)"
      ],
      "execution_count": null,
      "outputs": [
        {
          "output_type": "stream",
          "name": "stdout",
          "text": [
            "Using Logistic Regression Method\n",
            "Accuracy 90.70%\n",
            "              precision    recall  f1-score   support\n",
            "\n",
            "           0       0.92      0.80      0.86        15\n",
            "           1       0.90      0.96      0.93        28\n",
            "\n",
            "    accuracy                           0.91        43\n",
            "   macro avg       0.91      0.88      0.89        43\n",
            "weighted avg       0.91      0.91      0.91        43\n",
            "\n"
          ]
        }
      ]
    },
    {
      "cell_type": "code",
      "metadata": {
        "colab": {
          "base_uri": "https://localhost:8080/"
        },
        "id": "H-otLNHoCG3J",
        "outputId": "30c7dbc9-bcd4-48e8-e6df-c60f0fe4f217"
      },
      "source": [
        "rfc_model(x_train,y_train,x_test,y_test)"
      ],
      "execution_count": null,
      "outputs": [
        {
          "output_type": "stream",
          "name": "stdout",
          "text": [
            "using Random Forest Classification method\n",
            "Accuracy 93.02%\n",
            "              precision    recall  f1-score   support\n",
            "\n",
            "           0       0.93      0.87      0.90        15\n",
            "           1       0.93      0.96      0.95        28\n",
            "\n",
            "    accuracy                           0.93        43\n",
            "   macro avg       0.93      0.92      0.92        43\n",
            "weighted avg       0.93      0.93      0.93        43\n",
            "\n"
          ]
        }
      ]
    },
    {
      "cell_type": "markdown",
      "metadata": {
        "id": "CqdRUcAYCtKy"
      },
      "source": [
        "**we can see the prediction and say that Random Forest is better** **perform then logistic regression** \n",
        "**and the accuracy score in 93.02%**"
      ]
    }
  ]
}